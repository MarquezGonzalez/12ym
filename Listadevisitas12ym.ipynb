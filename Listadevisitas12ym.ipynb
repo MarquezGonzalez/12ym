{
  "nbformat": 4,
  "nbformat_minor": 0,
  "metadata": {
    "colab": {
      "provenance": []
    },
    "kernelspec": {
      "name": "python3",
      "display_name": "Python 3"
    },
    "language_info": {
      "name": "python"
    }
  },
  "cells": [
    {
      "cell_type": "code",
      "execution_count": 6,
      "metadata": {
        "colab": {
          "base_uri": "https://localhost:8080/"
        },
        "id": "Jun4jDUxcMhM",
        "outputId": "1ec20dbd-db44-47e1-a6ca-81a852b950d8"
      },
      "outputs": [
        {
          "output_type": "stream",
          "name": "stdout",
          "text": [
            "[('Alejandra', 'Heannette'), ('Indira', 'Adilenis'), ('Fe', 'Neicy'), ('Elizabeth', 'Eunice'), ('Claudia Beatriz', 'Claudia'), ('Cintia', 'Illenay')]\n"
          ]
        }
      ],
      "source": [
        "import random\n",
        "\n",
        "A = [\"Claudia Beatriz\", \"Elizabeth\", \"Fe\", \"Alejandra\", \"Indira\", \"Cintia\"]\n",
        "B = [\"Illenay\", \"Neicy\", \"Heannette\", \"Eunice\", \"Claudia\", \"Adilenis\"]\n",
        "\n",
        "pairs = []\n",
        "while len(A) > 0 and len(B) > 0:\n",
        "    a = random.choice(A)\n",
        "    b = random.choice(B)\n",
        "    pairs.append((a, b))\n",
        "    A.remove(a)\n",
        "    B.remove(b)\n",
        "\n",
        "print(pairs)"
      ]
    }
  ]
}